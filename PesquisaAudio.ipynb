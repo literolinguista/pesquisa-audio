{
  "nbformat": 4,
  "nbformat_minor": 0,
  "metadata": {
    "colab": {
      "provenance": [],
      "authorship_tag": "ABX9TyOgRXyxGJ5J89oYK14oT90t",
      "include_colab_link": true
    },
    "kernelspec": {
      "name": "python3",
      "display_name": "Python 3"
    },
    "language_info": {
      "name": "python"
    }
  },
  "cells": [
    {
      "cell_type": "markdown",
      "metadata": {
        "id": "view-in-github",
        "colab_type": "text"
      },
      "source": [
        "<a href=\"https://colab.research.google.com/github/literolinguista/pesquisa-audio/blob/main/PesquisaAudio.ipynb\" target=\"_parent\"><img src=\"https://colab.research.google.com/assets/colab-badge.svg\" alt=\"Open In Colab\"/></a>"
      ]
    },
    {
      "cell_type": "code",
      "execution_count": 40,
      "metadata": {
        "id": "qz4fAz12o_WF"
      },
      "outputs": [],
      "source": [
        "!pip install -q -U google-generativeai\n",
        "!pip install -q SpeechRecognition pydub\n",
        "\n",
        "import speech_recognition as sr\n",
        "from pydub import AudioSegment\n",
        "from pydub.silence import split_on_silence\n",
        "import io"
      ]
    },
    {
      "cell_type": "code",
      "source": [
        "# Import the Python SDK\n",
        "import google.generativeai as genai\n",
        "# Used to securely store your API key\n",
        "from google.colab import userdata\n",
        "\n",
        "GOOGLE_API_KEY=userdata.get('secretName')\n",
        "genai.configure(api_key=GOOGLE_API_KEY)"
      ],
      "metadata": {
        "id": "iPxaao5-rXdl"
      },
      "execution_count": 35,
      "outputs": []
    },
    {
      "cell_type": "code",
      "source": [
        "model = genai.GenerativeModel(model_name = \"gemini-1.0-pro\")"
      ],
      "metadata": {
        "id": "uGuVGAJ8vgSs"
      },
      "execution_count": 36,
      "outputs": []
    },
    {
      "cell_type": "markdown",
      "source": [
        "# Prompt usado no Gemini para criar o código de upload e transcrição do arquivo de áudio:\n",
        "\n",
        "> Escreva um código simples para Jupyter Notebook que receba o upload de um arquivo no formato exclusivo de MP3 e de no máximo 30 segundos, transcreva o áudio carregado e exiba o texto transcrito no formato de legenda com a indicação de tempo para cada frase.\n",
        "\n"
      ],
      "metadata": {
        "id": "n-rk8ET3Hno4"
      }
    },
    {
      "cell_type": "code",
      "source": [
        "# Função para transcrever o áudio\n",
        "def transcrever_audio(audio_file):\n",
        "  r = sr.Recognizer()\n",
        "  with sr.AudioFile(audio_file) as source:\n",
        "    audio = r.record(source)\n",
        "  try:\n",
        "    texto = r.recognize_google(audio, language='pt-BR')\n",
        "    return texto\n",
        "  except sr.UnknownValueError:\n",
        "    return \"Não foi possível entender o áudio\"\n",
        "  except sr.RequestError as e:\n",
        "    return \"Erro ao solicitar resultados do serviço de reconhecimento de fala Google; {0}\".format(e)\n",
        "\n",
        "# Função para gerar legendas com timestamp\n",
        "def gerar_legendas(audio_file):\n",
        "  sound_file = AudioSegment.from_file(audio_file, format=\"mp3\")\n",
        "\n",
        "  # Divide o áudio em chunks de silêncio\n",
        "  chunks = split_on_silence(\n",
        "      sound_file,\n",
        "      min_silence_len=500,\n",
        "      silence_thresh=sound_file.dBFS-16,\n",
        "      keep_silence=100\n",
        "  )\n",
        "\n",
        "  legendas = []\n",
        "  tempo_inicial = 0\n",
        "\n",
        "  # Transcreve cada chunk e formata as legendas\n",
        "  for i, chunk in enumerate(chunks):\n",
        "    # Salva o chunk em um arquivo temporário\n",
        "    chunk.export(f\"chunk{i}.wav\", format=\"wav\")\n",
        "    texto = transcrever_audio(f\"chunk{i}.wav\")\n",
        "\n",
        "    # Calcula o tempo final do chunk\n",
        "    tempo_final = tempo_inicial + len(chunk) / 1000\n",
        "    legendas.append(f\"{tempo_inicial:.2f} --> {tempo_final:.2f}\\n{texto.capitalize()}\\n\")\n",
        "\n",
        "    # Atualiza o tempo inicial para o próximo chunk\n",
        "    tempo_inicial = tempo_final\n",
        "\n",
        "  return legendas\n",
        "\n",
        "# Interface para upload do arquivo MP3\n",
        "uploaded = files.upload()\n",
        "\n",
        "# Verifica se um arquivo foi carregado\n",
        "if uploaded:\n",
        "  for fn in uploaded.keys():\n",
        "    # Verifica o formato do arquivo\n",
        "    if not fn.lower().endswith('.mp3'):\n",
        "      print(\"Por favor, faça o upload de um arquivo MP3.\")\n",
        "    else:\n",
        "      # Verifica a duração do arquivo\n",
        "      audio = AudioSegment.from_file(io.BytesIO(uploaded[fn]), format=\"mp3\")\n",
        "      if audio.duration_seconds > 30:\n",
        "        print(\"O arquivo deve ter no máximo 30 segundos.\")\n",
        "      else:\n",
        "        # Gera e exibe as legendas\n",
        "        legendas = gerar_legendas(io.BytesIO(uploaded[fn]))\n",
        "        for linha in legendas:\n",
        "          print(linha)\n",
        "else:\n",
        "  print(\"Nenhum arquivo foi carregado.\")"
      ],
      "metadata": {
        "colab": {
          "base_uri": "https://localhost:8080/",
          "height": 314
        },
        "id": "ouRojY9kHqdJ",
        "outputId": "007d676a-bf3d-4c96-a364-290f10291ad8"
      },
      "execution_count": 39,
      "outputs": [
        {
          "output_type": "display_data",
          "data": {
            "text/plain": [
              "<IPython.core.display.HTML object>"
            ],
            "text/html": [
              "\n",
              "     <input type=\"file\" id=\"files-2dabb070-3d77-4a75-835c-1dbe4d24bb9c\" name=\"files[]\" multiple disabled\n",
              "        style=\"border:none\" />\n",
              "     <output id=\"result-2dabb070-3d77-4a75-835c-1dbe4d24bb9c\">\n",
              "      Upload widget is only available when the cell has been executed in the\n",
              "      current browser session. Please rerun this cell to enable.\n",
              "      </output>\n",
              "      <script>// Copyright 2017 Google LLC\n",
              "//\n",
              "// Licensed under the Apache License, Version 2.0 (the \"License\");\n",
              "// you may not use this file except in compliance with the License.\n",
              "// You may obtain a copy of the License at\n",
              "//\n",
              "//      http://www.apache.org/licenses/LICENSE-2.0\n",
              "//\n",
              "// Unless required by applicable law or agreed to in writing, software\n",
              "// distributed under the License is distributed on an \"AS IS\" BASIS,\n",
              "// WITHOUT WARRANTIES OR CONDITIONS OF ANY KIND, either express or implied.\n",
              "// See the License for the specific language governing permissions and\n",
              "// limitations under the License.\n",
              "\n",
              "/**\n",
              " * @fileoverview Helpers for google.colab Python module.\n",
              " */\n",
              "(function(scope) {\n",
              "function span(text, styleAttributes = {}) {\n",
              "  const element = document.createElement('span');\n",
              "  element.textContent = text;\n",
              "  for (const key of Object.keys(styleAttributes)) {\n",
              "    element.style[key] = styleAttributes[key];\n",
              "  }\n",
              "  return element;\n",
              "}\n",
              "\n",
              "// Max number of bytes which will be uploaded at a time.\n",
              "const MAX_PAYLOAD_SIZE = 100 * 1024;\n",
              "\n",
              "function _uploadFiles(inputId, outputId) {\n",
              "  const steps = uploadFilesStep(inputId, outputId);\n",
              "  const outputElement = document.getElementById(outputId);\n",
              "  // Cache steps on the outputElement to make it available for the next call\n",
              "  // to uploadFilesContinue from Python.\n",
              "  outputElement.steps = steps;\n",
              "\n",
              "  return _uploadFilesContinue(outputId);\n",
              "}\n",
              "\n",
              "// This is roughly an async generator (not supported in the browser yet),\n",
              "// where there are multiple asynchronous steps and the Python side is going\n",
              "// to poll for completion of each step.\n",
              "// This uses a Promise to block the python side on completion of each step,\n",
              "// then passes the result of the previous step as the input to the next step.\n",
              "function _uploadFilesContinue(outputId) {\n",
              "  const outputElement = document.getElementById(outputId);\n",
              "  const steps = outputElement.steps;\n",
              "\n",
              "  const next = steps.next(outputElement.lastPromiseValue);\n",
              "  return Promise.resolve(next.value.promise).then((value) => {\n",
              "    // Cache the last promise value to make it available to the next\n",
              "    // step of the generator.\n",
              "    outputElement.lastPromiseValue = value;\n",
              "    return next.value.response;\n",
              "  });\n",
              "}\n",
              "\n",
              "/**\n",
              " * Generator function which is called between each async step of the upload\n",
              " * process.\n",
              " * @param {string} inputId Element ID of the input file picker element.\n",
              " * @param {string} outputId Element ID of the output display.\n",
              " * @return {!Iterable<!Object>} Iterable of next steps.\n",
              " */\n",
              "function* uploadFilesStep(inputId, outputId) {\n",
              "  const inputElement = document.getElementById(inputId);\n",
              "  inputElement.disabled = false;\n",
              "\n",
              "  const outputElement = document.getElementById(outputId);\n",
              "  outputElement.innerHTML = '';\n",
              "\n",
              "  const pickedPromise = new Promise((resolve) => {\n",
              "    inputElement.addEventListener('change', (e) => {\n",
              "      resolve(e.target.files);\n",
              "    });\n",
              "  });\n",
              "\n",
              "  const cancel = document.createElement('button');\n",
              "  inputElement.parentElement.appendChild(cancel);\n",
              "  cancel.textContent = 'Cancel upload';\n",
              "  const cancelPromise = new Promise((resolve) => {\n",
              "    cancel.onclick = () => {\n",
              "      resolve(null);\n",
              "    };\n",
              "  });\n",
              "\n",
              "  // Wait for the user to pick the files.\n",
              "  const files = yield {\n",
              "    promise: Promise.race([pickedPromise, cancelPromise]),\n",
              "    response: {\n",
              "      action: 'starting',\n",
              "    }\n",
              "  };\n",
              "\n",
              "  cancel.remove();\n",
              "\n",
              "  // Disable the input element since further picks are not allowed.\n",
              "  inputElement.disabled = true;\n",
              "\n",
              "  if (!files) {\n",
              "    return {\n",
              "      response: {\n",
              "        action: 'complete',\n",
              "      }\n",
              "    };\n",
              "  }\n",
              "\n",
              "  for (const file of files) {\n",
              "    const li = document.createElement('li');\n",
              "    li.append(span(file.name, {fontWeight: 'bold'}));\n",
              "    li.append(span(\n",
              "        `(${file.type || 'n/a'}) - ${file.size} bytes, ` +\n",
              "        `last modified: ${\n",
              "            file.lastModifiedDate ? file.lastModifiedDate.toLocaleDateString() :\n",
              "                                    'n/a'} - `));\n",
              "    const percent = span('0% done');\n",
              "    li.appendChild(percent);\n",
              "\n",
              "    outputElement.appendChild(li);\n",
              "\n",
              "    const fileDataPromise = new Promise((resolve) => {\n",
              "      const reader = new FileReader();\n",
              "      reader.onload = (e) => {\n",
              "        resolve(e.target.result);\n",
              "      };\n",
              "      reader.readAsArrayBuffer(file);\n",
              "    });\n",
              "    // Wait for the data to be ready.\n",
              "    let fileData = yield {\n",
              "      promise: fileDataPromise,\n",
              "      response: {\n",
              "        action: 'continue',\n",
              "      }\n",
              "    };\n",
              "\n",
              "    // Use a chunked sending to avoid message size limits. See b/62115660.\n",
              "    let position = 0;\n",
              "    do {\n",
              "      const length = Math.min(fileData.byteLength - position, MAX_PAYLOAD_SIZE);\n",
              "      const chunk = new Uint8Array(fileData, position, length);\n",
              "      position += length;\n",
              "\n",
              "      const base64 = btoa(String.fromCharCode.apply(null, chunk));\n",
              "      yield {\n",
              "        response: {\n",
              "          action: 'append',\n",
              "          file: file.name,\n",
              "          data: base64,\n",
              "        },\n",
              "      };\n",
              "\n",
              "      let percentDone = fileData.byteLength === 0 ?\n",
              "          100 :\n",
              "          Math.round((position / fileData.byteLength) * 100);\n",
              "      percent.textContent = `${percentDone}% done`;\n",
              "\n",
              "    } while (position < fileData.byteLength);\n",
              "  }\n",
              "\n",
              "  // All done.\n",
              "  yield {\n",
              "    response: {\n",
              "      action: 'complete',\n",
              "    }\n",
              "  };\n",
              "}\n",
              "\n",
              "scope.google = scope.google || {};\n",
              "scope.google.colab = scope.google.colab || {};\n",
              "scope.google.colab._files = {\n",
              "  _uploadFiles,\n",
              "  _uploadFilesContinue,\n",
              "};\n",
              "})(self);\n",
              "</script> "
            ]
          },
          "metadata": {}
        },
        {
          "output_type": "stream",
          "name": "stdout",
          "text": [
            "Saving recorteAlura30s.mp3 to recorteAlura30s (1).mp3\n",
            "0.00 --> 6.79\n",
            "E aí pessoal tudo bem sejam todos bem-vindos e bem-vindas ao 4 aqui da inversão da luna com o\n",
            "\n",
            "6.79 --> 12.30\n",
            "Eu sou a professora ana raquel eu sou aqui da fiap eu sou o professor e também dentista\n",
            "\n",
            "12.30 --> 16.76\n",
            "Eu tô aqui hoje com o fabrício que é da lora e o luciano martins que é da\n",
            "\n",
            "16.76 --> 28.93\n",
            "E hoje a gente vai ter uma aula bem prática bem revisão para a gente poder aprender como desenvolver né trabalhar aqui com o gmail que é a que a llm da google para a gente poder fazer passo a passo né pessoal\n",
            "\n"
          ]
        }
      ]
    },
    {
      "cell_type": "markdown",
      "source": [
        "Pesquisa simples para exibição da palavra-chave no arquivo de texto transcrito."
      ],
      "metadata": {
        "id": "6ENAVoMZSuat"
      }
    },
    {
      "cell_type": "code",
      "source": [
        "palavra_chave = input(\"Digite a palavra que você procura: \")\n",
        "\n",
        "encontrado = False\n",
        "for i, linha in enumerate(legendas):\n",
        "  if palavra_chave in linha:\n",
        "    print(f\"Palavra encontrada na linha {i+1}: {linha}\")\n",
        "    encontrado = True\n",
        "\n",
        "if not encontrado:\n",
        "  print(f\"A palavra '{palavra_chave}' não foi encontrada no texto.\")"
      ],
      "metadata": {
        "colab": {
          "base_uri": "https://localhost:8080/"
        },
        "id": "SN8hGxrnNKsp",
        "outputId": "7a31b68b-ed38-4d31-fda5-9a0cc6057304"
      },
      "execution_count": 52,
      "outputs": [
        {
          "output_type": "stream",
          "name": "stdout",
          "text": [
            "Digite a palavra que você procura: sonho\n",
            "A palavra 'sonho' não foi encontrada no texto.\n"
          ]
        }
      ]
    }
  ]
}